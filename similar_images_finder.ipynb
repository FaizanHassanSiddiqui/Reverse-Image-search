{
 "cells": [
  {
   "cell_type": "code",
   "execution_count": 16,
   "metadata": {},
   "outputs": [],
   "source": [
    "import json\n",
    "import numpy as np\n",
    "from annoy import AnnoyIndex\n",
    "from tensorflow.keras.applications.vgg16 import VGG16\n",
    "from tensorflow.keras.applications.vgg16 import preprocess_input\n",
    "from tensorflow.keras.models import Model\n",
    "from tensorflow.keras.preprocessing import image"
   ]
  },
  {
   "cell_type": "code",
   "execution_count": 2,
   "metadata": {},
   "outputs": [],
   "source": [
    "def index_features(features, n_trees=1000, dims=4096, is_dict=False):\n",
    "    \"\"\"\n",
    "    Use Annoy to index our features to be able to query them rapidly\n",
    "    :param features: array of item features\n",
    "    :param n_trees: number of trees to use for Annoy. Higher is more precise but slower.\n",
    "    :param dims: dimension of our features\n",
    "    :return: an Annoy tree of indexed features\n",
    "    \"\"\"\n",
    "    feature_index = AnnoyIndex(dims, metric='angular')\n",
    "    for i, row in enumerate(features):\n",
    "        vec = row\n",
    "        if is_dict:\n",
    "            vec = features[row]\n",
    "        feature_index.add_item(i, vec)\n",
    "    feature_index.build(n_trees)\n",
    "    return feature_index"
   ]
  },
  {
   "cell_type": "code",
   "execution_count": 8,
   "metadata": {},
   "outputs": [],
   "source": [
    "images_features = np.load('image_features.npy')\n",
    "\n",
    "image_index = index_features(images_features)"
   ]
  },
  {
   "cell_type": "code",
   "execution_count": 13,
   "metadata": {},
   "outputs": [],
   "source": [
    "pretrained_vgg16 = VGG16(weights='imagenet', include_top=True)\n",
    "model = Model(inputs=pretrained_vgg16.input,\n",
    "                  outputs=pretrained_vgg16.get_layer('fc2').output)"
   ]
  },
  {
   "cell_type": "code",
   "execution_count": 14,
   "metadata": {},
   "outputs": [],
   "source": [
    "def predict_similar_images(img_path, model, image_index, num_matches = 10):  \n",
    "    img = image.load_img(img_path, target_size=(224, 224))\n",
    "    x_raw = image.img_to_array(img)\n",
    "    x_expand = np.expand_dims(x_raw, axis=0)\n",
    "    x = preprocess_input(x_expand)\n",
    "    featured = model.predict(x)\n",
    "    index_of_file = image_index.get_nns_by_vector(featured.reshape(-1), num_matches )\n",
    "    \n",
    "    return index_of_file"
   ]
  },
  {
   "cell_type": "code",
   "execution_count": 17,
   "metadata": {},
   "outputs": [],
   "source": [
    "out_come = predict_similar_images('test_img.jpg', model, image_index, num_matches = 10)"
   ]
  },
  {
   "cell_type": "code",
   "execution_count": 26,
   "metadata": {
    "scrolled": true
   },
   "outputs": [
    {
     "name": "stdout",
     "output_type": "stream",
     "text": [
      "https://ng.jumia.is/unsafe/fit-in/300x300/filters:fill(white)/product/54/760136/1.jpg?5222\n",
      "https://ng.jumia.is/unsafe/fit-in/300x300/filters:fill(white)/product/78/297146/1.jpg?5170\n",
      "https://ng.jumia.is/unsafe/fit-in/300x300/filters:fill(white)/product/27/670934/1.jpg?3799\n",
      "https://ng.jumia.is/unsafe/fit-in/300x300/filters:fill(white)/product/85/558594/1.jpg?0098\n",
      "https://ng.jumia.is/unsafe/fit-in/300x300/filters:fill(white)/product/95/687846/1.jpg?0352\n",
      "https://ng.jumia.is/unsafe/fit-in/300x300/filters:fill(white)/product/13/658594/1.jpg?0127\n",
      "https://ng.jumia.is/unsafe/fit-in/300x300/filters:fill(white)/product/51/733625/1.jpg?8146\n",
      "https://ng.jumia.is/unsafe/fit-in/300x300/filters:fill(white)/product/39/129075/1.jpg?1456\n",
      "https://ng.jumia.is/unsafe/fit-in/300x300/filters:fill(white)/product/40/038895/1.jpg?6759\n",
      "https://ng.jumia.is/unsafe/fit-in/300x300/filters:fill(white)/product/95/501535/1.jpg?5270\n"
     ]
    }
   ],
   "source": [
    "with open('file_index.json') as f_in:\n",
    "    file_index = json.load(f_in)\n",
    "    \n",
    "    with open('name_to_url.json') as f_in:\n",
    "        name_to_url = json.load(f_in)\n",
    "        for outt in out_come:\n",
    "            print(name_to_url[file_index[str(outt)]])\n"
   ]
  }
 ],
 "metadata": {
  "kernelspec": {
   "display_name": "Python 3",
   "language": "python",
   "name": "python3"
  },
  "language_info": {
   "codemirror_mode": {
    "name": "ipython",
    "version": 3
   },
   "file_extension": ".py",
   "mimetype": "text/x-python",
   "name": "python",
   "nbconvert_exporter": "python",
   "pygments_lexer": "ipython3",
   "version": "3.8.3"
  }
 },
 "nbformat": 4,
 "nbformat_minor": 4
}
